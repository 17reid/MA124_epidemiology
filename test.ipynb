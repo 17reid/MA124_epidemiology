{
 "cells": [
  {
   "cell_type": "code",
   "execution_count": 1,
   "metadata": {},
   "outputs": [],
   "source": [
    "# import libraries\n",
    "\n",
    "import numpy as np # Import NumPy library. The \"np\" bit tells Python to give NumPy the alias of np. So now we can call np. function_name rather than numpy.\n",
    "import matplotlib.pyplot as plt\n",
    "from scipy.integrate import odeint "
   ]
  },
  {
   "cell_type": "code",
   "execution_count": 3,
   "metadata": {},
   "outputs": [],
   "source": [
    "# --- First define the RHS of ODE system --- #\n",
    "\n",
    "def SIR(y, t, mu=0.1):\n",
    "    # returns RHS of the SIR model\n",
    "    S, I, R, beta = y\n",
    "    \n",
    "    N = S + I + R\n",
    "    Sdot = -beta * S * I\n",
    "    Idot = beta * S * I - mu * I\n",
    "    Rdot = mu * I\n",
    "    \n",
    "    return Sdot, Idot, Rdot"
   ]
  },
  {
   "cell_type": "code",
   "execution_count": 5,
   "metadata": {},
   "outputs": [],
   "source": [
    "def get_max_I(beta,mu=0.1):\n",
    "    tf = 150\n",
    "    Nsteps = 10000\n",
    "    t = np.linspace(0, tf, Nsteps+1)\n",
    "    N = 10**4\n",
    "    I0 = 3\n",
    "    S0 = N - I0\n",
    "    R0 = 0\n",
    "    y0 = np.array([S0, I0, R0,beta])\n",
    "\n",
    "    out = (odeint(SIR,y0,t))\n",
    "    return max(out[:,1]) # The values of I are stored in out[:,1]\n"
   ]
  },
  {
   "cell_type": "code",
   "execution_count": 6,
   "metadata": {},
   "outputs": [
    {
     "ename": "ValueError",
     "evalue": "setting an array element with a sequence. The requested array has an inhomogeneous shape after 1 dimensions. The detected shape was (4,) + inhomogeneous part.",
     "output_type": "error",
     "traceback": [
      "\u001b[1;31m---------------------------------------------------------------------------\u001b[0m",
      "\u001b[1;31mValueError\u001b[0m                                Traceback (most recent call last)",
      "Cell \u001b[1;32mIn[6], line 4\u001b[0m\n\u001b[0;32m      2\u001b[0m betas \u001b[38;5;241m=\u001b[39m np\u001b[38;5;241m.\u001b[39mlinspace(\u001b[38;5;241m0\u001b[39m,\u001b[38;5;241m0.0005\u001b[39m,Nsteps\u001b[38;5;241m+\u001b[39m\u001b[38;5;241m1\u001b[39m)\n\u001b[0;32m      3\u001b[0m max_I_vals \u001b[38;5;241m=\u001b[39m np\u001b[38;5;241m.\u001b[39mzeros(Nsteps\u001b[38;5;241m+\u001b[39m\u001b[38;5;241m1\u001b[39m)\n\u001b[1;32m----> 4\u001b[0m max_I_vals \u001b[38;5;241m=\u001b[39m \u001b[43mget_max_I\u001b[49m\u001b[43m(\u001b[49m\u001b[43mbetas\u001b[49m\u001b[43m)\u001b[49m\n\u001b[0;32m      6\u001b[0m \u001b[38;5;66;03m# plot\u001b[39;00m\n\u001b[0;32m      7\u001b[0m plt\u001b[38;5;241m.\u001b[39mplot(betas, max_I_vals)\n",
      "Cell \u001b[1;32mIn[5], line 9\u001b[0m, in \u001b[0;36mget_max_I\u001b[1;34m(beta, mu)\u001b[0m\n\u001b[0;32m      7\u001b[0m S0 \u001b[38;5;241m=\u001b[39m N \u001b[38;5;241m-\u001b[39m I0\n\u001b[0;32m      8\u001b[0m R0 \u001b[38;5;241m=\u001b[39m \u001b[38;5;241m0\u001b[39m\n\u001b[1;32m----> 9\u001b[0m y0 \u001b[38;5;241m=\u001b[39m \u001b[43mnp\u001b[49m\u001b[38;5;241;43m.\u001b[39;49m\u001b[43marray\u001b[49m\u001b[43m(\u001b[49m\u001b[43m[\u001b[49m\u001b[43mS0\u001b[49m\u001b[43m,\u001b[49m\u001b[43m \u001b[49m\u001b[43mI0\u001b[49m\u001b[43m,\u001b[49m\u001b[43m \u001b[49m\u001b[43mR0\u001b[49m\u001b[43m,\u001b[49m\u001b[43mbeta\u001b[49m\u001b[43m]\u001b[49m\u001b[43m)\u001b[49m\n\u001b[0;32m     11\u001b[0m out \u001b[38;5;241m=\u001b[39m (odeint(SIR,y0,t))\n\u001b[0;32m     12\u001b[0m \u001b[38;5;28;01mreturn\u001b[39;00m \u001b[38;5;28mmax\u001b[39m(out[:,\u001b[38;5;241m1\u001b[39m])\n",
      "\u001b[1;31mValueError\u001b[0m: setting an array element with a sequence. The requested array has an inhomogeneous shape after 1 dimensions. The detected shape was (4,) + inhomogeneous part."
     ]
    }
   ],
   "source": [
    "Nsteps = 1000\n",
    "betas = np.linspace(0,0.0005,Nsteps+1)\n",
    "max_I_vals = np.zeros(Nsteps+1)\n",
    "max_I_vals = get_max_I(betas)\n",
    "\n",
    "# plot\n",
    "plt.plot(betas, max_I_vals)\n",
    "\n",
    "# labels etc\n",
    "plt.xlabel(\"Beta\", fontsize = 14)\n",
    "plt.ylabel(\"Max I\", fontsize = 14)\n",
    "plt.title(\"\", fontsize = 16)\n",
    "\n",
    "# put some markers to show initial and final states\n",
    "plt.plot(betas[0], max_I_vals[0], 'rd', markersize = 10)\n",
    "plt.plot(betas[-1], max_I_vals[-1], 'go', markersize = 10)\n",
    "plt.show()"
   ]
  }
 ],
 "metadata": {
  "kernelspec": {
   "display_name": "base",
   "language": "python",
   "name": "python3"
  },
  "language_info": {
   "codemirror_mode": {
    "name": "ipython",
    "version": 3
   },
   "file_extension": ".py",
   "mimetype": "text/x-python",
   "name": "python",
   "nbconvert_exporter": "python",
   "pygments_lexer": "ipython3",
   "version": "3.12.7"
  }
 },
 "nbformat": 4,
 "nbformat_minor": 2
}
